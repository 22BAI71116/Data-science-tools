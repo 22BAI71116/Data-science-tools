{
 "cells": [
  {
   "cell_type": "markdown",
   "id": "9b2cd067",
   "metadata": {},
   "source": [
    " # Data Science Tools and Ecosystem\n"
   ]
  },
  {
   "cell_type": "markdown",
   "id": "d4be2536",
   "metadata": {},
   "source": [
    "In this notebook, Data Science Tools and Ecosystem are summarized."
   ]
  },
  {
   "cell_type": "markdown",
   "id": "4849e38a",
   "metadata": {},
   "source": [
    "Some of the popular languages that Data Scientists use are:\n",
    "1. Python\n",
    "2. R\n",
    "3. SQL\n",
    "4. Julia\n",
    "5. MATLAB\n",
    "6. Scala\n",
    "7. Java\n"
   ]
  },
  {
   "cell_type": "markdown",
   "id": "4091e1c9",
   "metadata": {},
   "source": [
    "Some of the commonly used libraries used by Data Scientists include:\n",
    "\n",
    "1. Pandas\n",
    "2. NumPy\n",
    "3. Matplotlib\n",
    "4. Seaborn\n",
    "5. Scikit-learn\n",
    "6. TensorFlow\n",
    "7. Keras\n"
   ]
  },
  {
   "cell_type": "markdown",
   "id": "25676abc",
   "metadata": {},
   "source": [
    "**Objectives:**\n",
    "\n",
    "- List popular languages for Data Science.\n",
    "- Introduce commonly used libraries for Data Science.\n",
    "- Provide examples of arithmetic operations in Python.\n",
    "- Demonstrate conversion from minutes to hours.\n"
   ]
  },
  {
   "cell_type": "markdown",
   "id": "aa21c01a",
   "metadata": {},
   "source": [
    "| Data Science Tools    |\n",
    "|-----------------------|\n",
    "| Jupyter Notebook      |\n",
    "| RStudio               |\n",
    "| VSCode with Python    |"
   ]
  },
  {
   "cell_type": "markdown",
   "id": "e76ab209",
   "metadata": {},
   "source": [
    "### Below are a few examples of evaluating arithmetic expressions in Python"
   ]
  },
  {
   "cell_type": "code",
   "execution_count": 8,
   "id": "1b0d985a",
   "metadata": {},
   "outputs": [
    {
     "name": "stdout",
     "output_type": "stream",
     "text": [
      "Multiplication result: 12\n",
      "Addition result: 7\n"
     ]
    }
   ],
   "source": [
    "# Multiplication\n",
    "result_multiply = 3 * 4\n",
    "print(\"Multiplication result:\", result_multiply)\n",
    "\n",
    "# Addition\n",
    "result_addition = 3 + 4\n",
    "print(\"Addition result:\", result_addition)\n"
   ]
  },
  {
   "cell_type": "code",
   "execution_count": 9,
   "id": "24d266e9",
   "metadata": {},
   "outputs": [
    {
     "name": "stdout",
     "output_type": "stream",
     "text": [
      "120 minutes is equal to 2.0 hours\n"
     ]
    }
   ],
   "source": [
    "# Define a variable for minutes\n",
    "minutes = 120\n",
    "\n",
    "# Convert minutes to hours\n",
    "hours = minutes / 60\n",
    "\n",
    "# Print the result\n",
    "print(minutes, \"minutes is equal to\", hours, \"hours\")\n"
   ]
  },
  {
   "cell_type": "markdown",
   "id": "c6a1637b",
   "metadata": {},
   "source": [
    "## Author\n",
    "Jatin verma"
   ]
  },
  {
   "cell_type": "code",
   "execution_count": null,
   "id": "3c9dacc6",
   "metadata": {},
   "outputs": [],
   "source": []
  }
 ],
 "metadata": {
  "kernelspec": {
   "display_name": "Python 3 (ipykernel)",
   "language": "python",
   "name": "python3"
  },
  "language_info": {
   "codemirror_mode": {
    "name": "ipython",
    "version": 3
   },
   "file_extension": ".py",
   "mimetype": "text/x-python",
   "name": "python",
   "nbconvert_exporter": "python",
   "pygments_lexer": "ipython3",
   "version": "3.11.5"
  }
 },
 "nbformat": 4,
 "nbformat_minor": 5
}
